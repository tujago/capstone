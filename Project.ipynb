{
 "cells": [
  {
   "cell_type": "markdown",
   "metadata": {},
   "source": [
    "#### Import Python packages "
   ]
  },
  {
   "cell_type": "code",
   "execution_count": 54,
   "metadata": {},
   "outputs": [],
   "source": [
    "import pandas as pd\n",
    "import cassandra\n",
    "import re\n",
    "import os\n",
    "import glob\n",
    "import numpy as np\n",
    "import json\n",
    "import csv"
   ]
  },
  {
   "cell_type": "markdown",
   "metadata": {},
   "source": [
    "#### Reading original Yelp files and exploring content"
   ]
  },
  {
   "cell_type": "code",
   "execution_count": 55,
   "metadata": {},
   "outputs": [],
   "source": [
    "reviews_yelp = pd.read_json('yelp_reviews.json', lines=True)\n",
    "business_yelp = pd.read_json('yelp_business.json', lines=True)"
   ]
  },
  {
   "cell_type": "code",
   "execution_count": 56,
   "metadata": {},
   "outputs": [
    {
     "data": {
      "text/html": [
       "<div>\n",
       "<style scoped>\n",
       "    .dataframe tbody tr th:only-of-type {\n",
       "        vertical-align: middle;\n",
       "    }\n",
       "\n",
       "    .dataframe tbody tr th {\n",
       "        vertical-align: top;\n",
       "    }\n",
       "\n",
       "    .dataframe thead th {\n",
       "        text-align: right;\n",
       "    }\n",
       "</style>\n",
       "<table border=\"1\" class=\"dataframe\">\n",
       "  <thead>\n",
       "    <tr style=\"text-align: right;\">\n",
       "      <th></th>\n",
       "      <th>review_id</th>\n",
       "      <th>user_id</th>\n",
       "      <th>business_id</th>\n",
       "      <th>stars</th>\n",
       "      <th>useful</th>\n",
       "      <th>funny</th>\n",
       "      <th>cool</th>\n",
       "      <th>text</th>\n",
       "      <th>date</th>\n",
       "    </tr>\n",
       "  </thead>\n",
       "  <tbody>\n",
       "    <tr>\n",
       "      <th>0</th>\n",
       "      <td>9vaycsbx7BcwnhELzmLm2g</td>\n",
       "      <td>4OLmjwZlYnnZQb1KJSY8bA</td>\n",
       "      <td>i25arPovwqti-Vn3kIDTNg</td>\n",
       "      <td>4</td>\n",
       "      <td>2</td>\n",
       "      <td>1</td>\n",
       "      <td>1</td>\n",
       "      <td>This is my grandmas favorite spot to get her n...</td>\n",
       "      <td>2014-05-12 22:04:42</td>\n",
       "    </tr>\n",
       "    <tr>\n",
       "      <th>1</th>\n",
       "      <td>HBCR6GIW4X93poTIMMKu_A</td>\n",
       "      <td>2z2A6ayPZmlVwZFK-uz60w</td>\n",
       "      <td>R_PDoxc8hKzl_5TVittHHA</td>\n",
       "      <td>4</td>\n",
       "      <td>49</td>\n",
       "      <td>23</td>\n",
       "      <td>50</td>\n",
       "      <td>I've been to this Publix for the past 5 months...</td>\n",
       "      <td>2021-07-16 15:06:35</td>\n",
       "    </tr>\n",
       "    <tr>\n",
       "      <th>2</th>\n",
       "      <td>br4gGvwX9wmZ9RzvZgCtYA</td>\n",
       "      <td>kHdpmxSBzbNgD1n-mkVI7Q</td>\n",
       "      <td>9eOXWB7maNUFttHJUEaytA</td>\n",
       "      <td>5</td>\n",
       "      <td>0</td>\n",
       "      <td>0</td>\n",
       "      <td>1</td>\n",
       "      <td>Great job with handling and delivery of my Flo...</td>\n",
       "      <td>2021-10-02 18:31:56</td>\n",
       "    </tr>\n",
       "    <tr>\n",
       "      <th>3</th>\n",
       "      <td>tGytyGUOlOwKN0RdRAbS9g</td>\n",
       "      <td>x6EKJ7eXDsZtGByqVUTehw</td>\n",
       "      <td>jX64J3C4co3xHKoc1IPUzw</td>\n",
       "      <td>5</td>\n",
       "      <td>0</td>\n",
       "      <td>0</td>\n",
       "      <td>0</td>\n",
       "      <td>I don't usually post look at my profile, but M...</td>\n",
       "      <td>2021-10-05 20:24:42</td>\n",
       "    </tr>\n",
       "    <tr>\n",
       "      <th>4</th>\n",
       "      <td>P-iyPnFo9nXBqTgIZrLXhA</td>\n",
       "      <td>jXBT0hKsjBBRUAqDFJi6fg</td>\n",
       "      <td>cbICYefFAJH8LokJFcGXPA</td>\n",
       "      <td>2</td>\n",
       "      <td>2</td>\n",
       "      <td>0</td>\n",
       "      <td>0</td>\n",
       "      <td>Wow!  Where do I begin?  My wife and I walked ...</td>\n",
       "      <td>2020-01-26 15:21:03</td>\n",
       "    </tr>\n",
       "  </tbody>\n",
       "</table>\n",
       "</div>"
      ],
      "text/plain": [
       "                review_id                 user_id             business_id  \\\n",
       "0  9vaycsbx7BcwnhELzmLm2g  4OLmjwZlYnnZQb1KJSY8bA  i25arPovwqti-Vn3kIDTNg   \n",
       "1  HBCR6GIW4X93poTIMMKu_A  2z2A6ayPZmlVwZFK-uz60w  R_PDoxc8hKzl_5TVittHHA   \n",
       "2  br4gGvwX9wmZ9RzvZgCtYA  kHdpmxSBzbNgD1n-mkVI7Q  9eOXWB7maNUFttHJUEaytA   \n",
       "3  tGytyGUOlOwKN0RdRAbS9g  x6EKJ7eXDsZtGByqVUTehw  jX64J3C4co3xHKoc1IPUzw   \n",
       "4  P-iyPnFo9nXBqTgIZrLXhA  jXBT0hKsjBBRUAqDFJi6fg  cbICYefFAJH8LokJFcGXPA   \n",
       "\n",
       "   stars  useful  funny  cool  \\\n",
       "0      4       2      1     1   \n",
       "1      4      49     23    50   \n",
       "2      5       0      0     1   \n",
       "3      5       0      0     0   \n",
       "4      2       2      0     0   \n",
       "\n",
       "                                                text                date  \n",
       "0  This is my grandmas favorite spot to get her n... 2014-05-12 22:04:42  \n",
       "1  I've been to this Publix for the past 5 months... 2021-07-16 15:06:35  \n",
       "2  Great job with handling and delivery of my Flo... 2021-10-02 18:31:56  \n",
       "3  I don't usually post look at my profile, but M... 2021-10-05 20:24:42  \n",
       "4  Wow!  Where do I begin?  My wife and I walked ... 2020-01-26 15:21:03  "
      ]
     },
     "execution_count": 56,
     "metadata": {},
     "output_type": "execute_result"
    }
   ],
   "source": [
    "reviews_yelp.head(5)"
   ]
  },
  {
   "cell_type": "code",
   "execution_count": 57,
   "metadata": {},
   "outputs": [
    {
     "data": {
      "text/html": [
       "<div>\n",
       "<style scoped>\n",
       "    .dataframe tbody tr th:only-of-type {\n",
       "        vertical-align: middle;\n",
       "    }\n",
       "\n",
       "    .dataframe tbody tr th {\n",
       "        vertical-align: top;\n",
       "    }\n",
       "\n",
       "    .dataframe thead th {\n",
       "        text-align: right;\n",
       "    }\n",
       "</style>\n",
       "<table border=\"1\" class=\"dataframe\">\n",
       "  <thead>\n",
       "    <tr style=\"text-align: right;\">\n",
       "      <th></th>\n",
       "      <th>business_id</th>\n",
       "      <th>name</th>\n",
       "      <th>address</th>\n",
       "      <th>city</th>\n",
       "      <th>state</th>\n",
       "      <th>postal_code</th>\n",
       "      <th>latitude</th>\n",
       "      <th>longitude</th>\n",
       "      <th>stars</th>\n",
       "      <th>review_count</th>\n",
       "      <th>is_open</th>\n",
       "      <th>attributes</th>\n",
       "      <th>categories</th>\n",
       "      <th>hours</th>\n",
       "    </tr>\n",
       "  </thead>\n",
       "  <tbody>\n",
       "    <tr>\n",
       "      <th>0</th>\n",
       "      <td>Pns2l4eNsfO8kk83dixA6A</td>\n",
       "      <td>Abby Rappoport, LAC, CMQ</td>\n",
       "      <td>1616 Chapala St, Ste 2</td>\n",
       "      <td>Santa Barbara</td>\n",
       "      <td>CA</td>\n",
       "      <td>93101</td>\n",
       "      <td>34.426679</td>\n",
       "      <td>-119.711197</td>\n",
       "      <td>5.0</td>\n",
       "      <td>7</td>\n",
       "      <td>0</td>\n",
       "      <td>{'ByAppointmentOnly': 'True'}</td>\n",
       "      <td>Doctors, Traditional Chinese Medicine, Naturop...</td>\n",
       "      <td>None</td>\n",
       "    </tr>\n",
       "    <tr>\n",
       "      <th>1</th>\n",
       "      <td>mpf3x-BjTdTEA3yCZrAYPw</td>\n",
       "      <td>The UPS Store</td>\n",
       "      <td>87 Grasso Plaza Shopping Center</td>\n",
       "      <td>Affton</td>\n",
       "      <td>MO</td>\n",
       "      <td>63123</td>\n",
       "      <td>38.551126</td>\n",
       "      <td>-90.335695</td>\n",
       "      <td>3.0</td>\n",
       "      <td>15</td>\n",
       "      <td>1</td>\n",
       "      <td>{'BusinessAcceptsCreditCards': 'True'}</td>\n",
       "      <td>Shipping Centers, Local Services, Notaries, Ma...</td>\n",
       "      <td>{'Monday': '0:0-0:0', 'Tuesday': '8:0-18:30', ...</td>\n",
       "    </tr>\n",
       "    <tr>\n",
       "      <th>2</th>\n",
       "      <td>tUFrWirKiKi_TAnsVWINQQ</td>\n",
       "      <td>Target</td>\n",
       "      <td>5255 E Broadway Blvd</td>\n",
       "      <td>Tucson</td>\n",
       "      <td>AZ</td>\n",
       "      <td>85711</td>\n",
       "      <td>32.223236</td>\n",
       "      <td>-110.880452</td>\n",
       "      <td>3.5</td>\n",
       "      <td>22</td>\n",
       "      <td>0</td>\n",
       "      <td>{'BikeParking': 'True', 'BusinessAcceptsCredit...</td>\n",
       "      <td>Department Stores, Shopping, Fashion, Home &amp; G...</td>\n",
       "      <td>{'Monday': '8:0-22:0', 'Tuesday': '8:0-22:0', ...</td>\n",
       "    </tr>\n",
       "    <tr>\n",
       "      <th>3</th>\n",
       "      <td>MTSW4McQd7CbVtyjqoe9mw</td>\n",
       "      <td>St Honore Pastries</td>\n",
       "      <td>935 Race St</td>\n",
       "      <td>Philadelphia</td>\n",
       "      <td>PA</td>\n",
       "      <td>19107</td>\n",
       "      <td>39.955505</td>\n",
       "      <td>-75.155564</td>\n",
       "      <td>4.0</td>\n",
       "      <td>80</td>\n",
       "      <td>1</td>\n",
       "      <td>{'RestaurantsDelivery': 'False', 'OutdoorSeati...</td>\n",
       "      <td>Restaurants, Food, Bubble Tea, Coffee &amp; Tea, B...</td>\n",
       "      <td>{'Monday': '7:0-20:0', 'Tuesday': '7:0-20:0', ...</td>\n",
       "    </tr>\n",
       "    <tr>\n",
       "      <th>4</th>\n",
       "      <td>mWMc6_wTdE0EUBKIGXDVfA</td>\n",
       "      <td>Perkiomen Valley Brewery</td>\n",
       "      <td>101 Walnut St</td>\n",
       "      <td>Green Lane</td>\n",
       "      <td>PA</td>\n",
       "      <td>18054</td>\n",
       "      <td>40.338183</td>\n",
       "      <td>-75.471659</td>\n",
       "      <td>4.5</td>\n",
       "      <td>13</td>\n",
       "      <td>1</td>\n",
       "      <td>{'BusinessAcceptsCreditCards': 'True', 'Wheelc...</td>\n",
       "      <td>Brewpubs, Breweries, Food</td>\n",
       "      <td>{'Wednesday': '14:0-22:0', 'Thursday': '16:0-2...</td>\n",
       "    </tr>\n",
       "  </tbody>\n",
       "</table>\n",
       "</div>"
      ],
      "text/plain": [
       "              business_id                      name  \\\n",
       "0  Pns2l4eNsfO8kk83dixA6A  Abby Rappoport, LAC, CMQ   \n",
       "1  mpf3x-BjTdTEA3yCZrAYPw             The UPS Store   \n",
       "2  tUFrWirKiKi_TAnsVWINQQ                    Target   \n",
       "3  MTSW4McQd7CbVtyjqoe9mw        St Honore Pastries   \n",
       "4  mWMc6_wTdE0EUBKIGXDVfA  Perkiomen Valley Brewery   \n",
       "\n",
       "                           address           city state postal_code  \\\n",
       "0           1616 Chapala St, Ste 2  Santa Barbara    CA       93101   \n",
       "1  87 Grasso Plaza Shopping Center         Affton    MO       63123   \n",
       "2             5255 E Broadway Blvd         Tucson    AZ       85711   \n",
       "3                      935 Race St   Philadelphia    PA       19107   \n",
       "4                    101 Walnut St     Green Lane    PA       18054   \n",
       "\n",
       "    latitude   longitude  stars  review_count  is_open  \\\n",
       "0  34.426679 -119.711197    5.0             7        0   \n",
       "1  38.551126  -90.335695    3.0            15        1   \n",
       "2  32.223236 -110.880452    3.5            22        0   \n",
       "3  39.955505  -75.155564    4.0            80        1   \n",
       "4  40.338183  -75.471659    4.5            13        1   \n",
       "\n",
       "                                          attributes  \\\n",
       "0                      {'ByAppointmentOnly': 'True'}   \n",
       "1             {'BusinessAcceptsCreditCards': 'True'}   \n",
       "2  {'BikeParking': 'True', 'BusinessAcceptsCredit...   \n",
       "3  {'RestaurantsDelivery': 'False', 'OutdoorSeati...   \n",
       "4  {'BusinessAcceptsCreditCards': 'True', 'Wheelc...   \n",
       "\n",
       "                                          categories  \\\n",
       "0  Doctors, Traditional Chinese Medicine, Naturop...   \n",
       "1  Shipping Centers, Local Services, Notaries, Ma...   \n",
       "2  Department Stores, Shopping, Fashion, Home & G...   \n",
       "3  Restaurants, Food, Bubble Tea, Coffee & Tea, B...   \n",
       "4                          Brewpubs, Breweries, Food   \n",
       "\n",
       "                                               hours  \n",
       "0                                               None  \n",
       "1  {'Monday': '0:0-0:0', 'Tuesday': '8:0-18:30', ...  \n",
       "2  {'Monday': '8:0-22:0', 'Tuesday': '8:0-22:0', ...  \n",
       "3  {'Monday': '7:0-20:0', 'Tuesday': '7:0-20:0', ...  \n",
       "4  {'Wednesday': '14:0-22:0', 'Thursday': '16:0-2...  "
      ]
     },
     "execution_count": 57,
     "metadata": {},
     "output_type": "execute_result"
    }
   ],
   "source": [
    "business_yelp.head(5)"
   ]
  },
  {
   "cell_type": "code",
   "execution_count": 58,
   "metadata": {},
   "outputs": [
    {
     "data": {
      "text/plain": [
       "1079242"
      ]
     },
     "execution_count": 58,
     "metadata": {},
     "output_type": "execute_result"
    }
   ],
   "source": [
    "len(reviews_yelp.index)"
   ]
  },
  {
   "cell_type": "code",
   "execution_count": 59,
   "metadata": {},
   "outputs": [
    {
     "data": {
      "text/plain": [
       "150346"
      ]
     },
     "execution_count": 59,
     "metadata": {},
     "output_type": "execute_result"
    }
   ],
   "source": [
    "len(business_yelp.index)"
   ]
  },
  {
   "cell_type": "markdown",
   "metadata": {},
   "source": [
    "#### Merging 2 sources to create denormalized dataset for further processing"
   ]
  },
  {
   "cell_type": "code",
   "execution_count": 60,
   "metadata": {},
   "outputs": [],
   "source": [
    "yelp_dataset = pd.merge(reviews_yelp, business_yelp, \n",
    "                   on='business_id', \n",
    "                   how='inner')"
   ]
  },
  {
   "cell_type": "code",
   "execution_count": 61,
   "metadata": {},
   "outputs": [
    {
     "data": {
      "text/plain": [
       "1079242"
      ]
     },
     "execution_count": 61,
     "metadata": {},
     "output_type": "execute_result"
    }
   ],
   "source": [
    "len(yelp_dataset.index)\n"
   ]
  },
  {
   "cell_type": "code",
   "execution_count": 62,
   "metadata": {},
   "outputs": [
    {
     "data": {
      "text/html": [
       "<div>\n",
       "<style scoped>\n",
       "    .dataframe tbody tr th:only-of-type {\n",
       "        vertical-align: middle;\n",
       "    }\n",
       "\n",
       "    .dataframe tbody tr th {\n",
       "        vertical-align: top;\n",
       "    }\n",
       "\n",
       "    .dataframe thead th {\n",
       "        text-align: right;\n",
       "    }\n",
       "</style>\n",
       "<table border=\"1\" class=\"dataframe\">\n",
       "  <thead>\n",
       "    <tr style=\"text-align: right;\">\n",
       "      <th></th>\n",
       "      <th>review_id</th>\n",
       "      <th>user_id</th>\n",
       "      <th>business_id</th>\n",
       "      <th>stars_x</th>\n",
       "      <th>useful</th>\n",
       "      <th>funny</th>\n",
       "      <th>cool</th>\n",
       "      <th>text</th>\n",
       "      <th>date</th>\n",
       "      <th>name</th>\n",
       "      <th>...</th>\n",
       "      <th>state</th>\n",
       "      <th>postal_code</th>\n",
       "      <th>latitude</th>\n",
       "      <th>longitude</th>\n",
       "      <th>stars_y</th>\n",
       "      <th>review_count</th>\n",
       "      <th>is_open</th>\n",
       "      <th>attributes</th>\n",
       "      <th>categories</th>\n",
       "      <th>hours</th>\n",
       "    </tr>\n",
       "  </thead>\n",
       "  <tbody>\n",
       "    <tr>\n",
       "      <th>0</th>\n",
       "      <td>9vaycsbx7BcwnhELzmLm2g</td>\n",
       "      <td>4OLmjwZlYnnZQb1KJSY8bA</td>\n",
       "      <td>i25arPovwqti-Vn3kIDTNg</td>\n",
       "      <td>4</td>\n",
       "      <td>2</td>\n",
       "      <td>1</td>\n",
       "      <td>1</td>\n",
       "      <td>This is my grandmas favorite spot to get her n...</td>\n",
       "      <td>2014-05-12 22:04:42</td>\n",
       "      <td>Le Nails</td>\n",
       "      <td>...</td>\n",
       "      <td>MO</td>\n",
       "      <td>63144</td>\n",
       "      <td>38.627576</td>\n",
       "      <td>-90.340022</td>\n",
       "      <td>1.5</td>\n",
       "      <td>83</td>\n",
       "      <td>1</td>\n",
       "      <td>{'BikeParking': 'True', 'BusinessParking': '{'...</td>\n",
       "      <td>Beauty &amp; Spas, Nail Salons</td>\n",
       "      <td>None</td>\n",
       "    </tr>\n",
       "    <tr>\n",
       "      <th>1</th>\n",
       "      <td>VlEa3sTuVsatjUr2LKUkMA</td>\n",
       "      <td>JS_xvOHFVSR7BoHmVyST8A</td>\n",
       "      <td>i25arPovwqti-Vn3kIDTNg</td>\n",
       "      <td>1</td>\n",
       "      <td>0</td>\n",
       "      <td>0</td>\n",
       "      <td>0</td>\n",
       "      <td>Save your money and time and do not go here. W...</td>\n",
       "      <td>2021-09-26 20:08:30</td>\n",
       "      <td>Le Nails</td>\n",
       "      <td>...</td>\n",
       "      <td>MO</td>\n",
       "      <td>63144</td>\n",
       "      <td>38.627576</td>\n",
       "      <td>-90.340022</td>\n",
       "      <td>1.5</td>\n",
       "      <td>83</td>\n",
       "      <td>1</td>\n",
       "      <td>{'BikeParking': 'True', 'BusinessParking': '{'...</td>\n",
       "      <td>Beauty &amp; Spas, Nail Salons</td>\n",
       "      <td>None</td>\n",
       "    </tr>\n",
       "    <tr>\n",
       "      <th>2</th>\n",
       "      <td>qrSntxbBf0eZxbqO15Itmw</td>\n",
       "      <td>12uY_yf044-wWNI8E4zfXw</td>\n",
       "      <td>i25arPovwqti-Vn3kIDTNg</td>\n",
       "      <td>5</td>\n",
       "      <td>0</td>\n",
       "      <td>0</td>\n",
       "      <td>0</td>\n",
       "      <td>I have now gone to Le Nails for over a year.  ...</td>\n",
       "      <td>2020-06-22 19:07:00</td>\n",
       "      <td>Le Nails</td>\n",
       "      <td>...</td>\n",
       "      <td>MO</td>\n",
       "      <td>63144</td>\n",
       "      <td>38.627576</td>\n",
       "      <td>-90.340022</td>\n",
       "      <td>1.5</td>\n",
       "      <td>83</td>\n",
       "      <td>1</td>\n",
       "      <td>{'BikeParking': 'True', 'BusinessParking': '{'...</td>\n",
       "      <td>Beauty &amp; Spas, Nail Salons</td>\n",
       "      <td>None</td>\n",
       "    </tr>\n",
       "    <tr>\n",
       "      <th>3</th>\n",
       "      <td>VT3KHg3VxW3izekI9dlHaA</td>\n",
       "      <td>4outo7H3DMGhkOp4_RRbFw</td>\n",
       "      <td>i25arPovwqti-Vn3kIDTNg</td>\n",
       "      <td>3</td>\n",
       "      <td>1</td>\n",
       "      <td>0</td>\n",
       "      <td>0</td>\n",
       "      <td>Paid 90$ to get cut /bleed and bad sloppy nail...</td>\n",
       "      <td>2019-09-03 20:52:08</td>\n",
       "      <td>Le Nails</td>\n",
       "      <td>...</td>\n",
       "      <td>MO</td>\n",
       "      <td>63144</td>\n",
       "      <td>38.627576</td>\n",
       "      <td>-90.340022</td>\n",
       "      <td>1.5</td>\n",
       "      <td>83</td>\n",
       "      <td>1</td>\n",
       "      <td>{'BikeParking': 'True', 'BusinessParking': '{'...</td>\n",
       "      <td>Beauty &amp; Spas, Nail Salons</td>\n",
       "      <td>None</td>\n",
       "    </tr>\n",
       "    <tr>\n",
       "      <th>4</th>\n",
       "      <td>kuncqA-SZoxrUMTI2LrQbw</td>\n",
       "      <td>8iFSmvbj75X6QDoBtAQlUQ</td>\n",
       "      <td>i25arPovwqti-Vn3kIDTNg</td>\n",
       "      <td>1</td>\n",
       "      <td>0</td>\n",
       "      <td>0</td>\n",
       "      <td>0</td>\n",
       "      <td>This place is absolutely horrible!!! The woman...</td>\n",
       "      <td>2021-04-05 19:28:31</td>\n",
       "      <td>Le Nails</td>\n",
       "      <td>...</td>\n",
       "      <td>MO</td>\n",
       "      <td>63144</td>\n",
       "      <td>38.627576</td>\n",
       "      <td>-90.340022</td>\n",
       "      <td>1.5</td>\n",
       "      <td>83</td>\n",
       "      <td>1</td>\n",
       "      <td>{'BikeParking': 'True', 'BusinessParking': '{'...</td>\n",
       "      <td>Beauty &amp; Spas, Nail Salons</td>\n",
       "      <td>None</td>\n",
       "    </tr>\n",
       "  </tbody>\n",
       "</table>\n",
       "<p>5 rows × 22 columns</p>\n",
       "</div>"
      ],
      "text/plain": [
       "                review_id                 user_id             business_id  \\\n",
       "0  9vaycsbx7BcwnhELzmLm2g  4OLmjwZlYnnZQb1KJSY8bA  i25arPovwqti-Vn3kIDTNg   \n",
       "1  VlEa3sTuVsatjUr2LKUkMA  JS_xvOHFVSR7BoHmVyST8A  i25arPovwqti-Vn3kIDTNg   \n",
       "2  qrSntxbBf0eZxbqO15Itmw  12uY_yf044-wWNI8E4zfXw  i25arPovwqti-Vn3kIDTNg   \n",
       "3  VT3KHg3VxW3izekI9dlHaA  4outo7H3DMGhkOp4_RRbFw  i25arPovwqti-Vn3kIDTNg   \n",
       "4  kuncqA-SZoxrUMTI2LrQbw  8iFSmvbj75X6QDoBtAQlUQ  i25arPovwqti-Vn3kIDTNg   \n",
       "\n",
       "   stars_x  useful  funny  cool  \\\n",
       "0        4       2      1     1   \n",
       "1        1       0      0     0   \n",
       "2        5       0      0     0   \n",
       "3        3       1      0     0   \n",
       "4        1       0      0     0   \n",
       "\n",
       "                                                text                date  \\\n",
       "0  This is my grandmas favorite spot to get her n... 2014-05-12 22:04:42   \n",
       "1  Save your money and time and do not go here. W... 2021-09-26 20:08:30   \n",
       "2  I have now gone to Le Nails for over a year.  ... 2020-06-22 19:07:00   \n",
       "3  Paid 90$ to get cut /bleed and bad sloppy nail... 2019-09-03 20:52:08   \n",
       "4  This place is absolutely horrible!!! The woman... 2021-04-05 19:28:31   \n",
       "\n",
       "       name  ... state postal_code   latitude  longitude  stars_y  \\\n",
       "0  Le Nails  ...    MO       63144  38.627576 -90.340022      1.5   \n",
       "1  Le Nails  ...    MO       63144  38.627576 -90.340022      1.5   \n",
       "2  Le Nails  ...    MO       63144  38.627576 -90.340022      1.5   \n",
       "3  Le Nails  ...    MO       63144  38.627576 -90.340022      1.5   \n",
       "4  Le Nails  ...    MO       63144  38.627576 -90.340022      1.5   \n",
       "\n",
       "   review_count  is_open                                         attributes  \\\n",
       "0            83        1  {'BikeParking': 'True', 'BusinessParking': '{'...   \n",
       "1            83        1  {'BikeParking': 'True', 'BusinessParking': '{'...   \n",
       "2            83        1  {'BikeParking': 'True', 'BusinessParking': '{'...   \n",
       "3            83        1  {'BikeParking': 'True', 'BusinessParking': '{'...   \n",
       "4            83        1  {'BikeParking': 'True', 'BusinessParking': '{'...   \n",
       "\n",
       "                   categories hours  \n",
       "0  Beauty & Spas, Nail Salons  None  \n",
       "1  Beauty & Spas, Nail Salons  None  \n",
       "2  Beauty & Spas, Nail Salons  None  \n",
       "3  Beauty & Spas, Nail Salons  None  \n",
       "4  Beauty & Spas, Nail Salons  None  \n",
       "\n",
       "[5 rows x 22 columns]"
      ]
     },
     "execution_count": 62,
     "metadata": {},
     "output_type": "execute_result"
    }
   ],
   "source": [
    "yelp_dataset.head(5)"
   ]
  },
  {
   "cell_type": "markdown",
   "metadata": {},
   "source": [
    "#### Exploring columns that will be significant for project"
   ]
  },
  {
   "cell_type": "code",
   "execution_count": 63,
   "metadata": {},
   "outputs": [
    {
     "data": {
      "text/html": [
       "<div>\n",
       "<style scoped>\n",
       "    .dataframe tbody tr th:only-of-type {\n",
       "        vertical-align: middle;\n",
       "    }\n",
       "\n",
       "    .dataframe tbody tr th {\n",
       "        vertical-align: top;\n",
       "    }\n",
       "\n",
       "    .dataframe thead th {\n",
       "        text-align: right;\n",
       "    }\n",
       "</style>\n",
       "<table border=\"1\" class=\"dataframe\">\n",
       "  <thead>\n",
       "    <tr style=\"text-align: right;\">\n",
       "      <th></th>\n",
       "      <th>name</th>\n",
       "      <th>city</th>\n",
       "      <th>address</th>\n",
       "      <th>postal_code</th>\n",
       "      <th>stars_x</th>\n",
       "      <th>text</th>\n",
       "      <th>date</th>\n",
       "    </tr>\n",
       "  </thead>\n",
       "  <tbody>\n",
       "    <tr>\n",
       "      <th>0</th>\n",
       "      <td>Le Nails</td>\n",
       "      <td>Saint Louis</td>\n",
       "      <td>8472 Eager Rd</td>\n",
       "      <td>63144</td>\n",
       "      <td>4</td>\n",
       "      <td>This is my grandmas favorite spot to get her n...</td>\n",
       "      <td>2014-05-12 22:04:42</td>\n",
       "    </tr>\n",
       "    <tr>\n",
       "      <th>1</th>\n",
       "      <td>Le Nails</td>\n",
       "      <td>Saint Louis</td>\n",
       "      <td>8472 Eager Rd</td>\n",
       "      <td>63144</td>\n",
       "      <td>1</td>\n",
       "      <td>Save your money and time and do not go here. W...</td>\n",
       "      <td>2021-09-26 20:08:30</td>\n",
       "    </tr>\n",
       "    <tr>\n",
       "      <th>2</th>\n",
       "      <td>Le Nails</td>\n",
       "      <td>Saint Louis</td>\n",
       "      <td>8472 Eager Rd</td>\n",
       "      <td>63144</td>\n",
       "      <td>5</td>\n",
       "      <td>I have now gone to Le Nails for over a year.  ...</td>\n",
       "      <td>2020-06-22 19:07:00</td>\n",
       "    </tr>\n",
       "    <tr>\n",
       "      <th>3</th>\n",
       "      <td>Le Nails</td>\n",
       "      <td>Saint Louis</td>\n",
       "      <td>8472 Eager Rd</td>\n",
       "      <td>63144</td>\n",
       "      <td>3</td>\n",
       "      <td>Paid 90$ to get cut /bleed and bad sloppy nail...</td>\n",
       "      <td>2019-09-03 20:52:08</td>\n",
       "    </tr>\n",
       "    <tr>\n",
       "      <th>4</th>\n",
       "      <td>Le Nails</td>\n",
       "      <td>Saint Louis</td>\n",
       "      <td>8472 Eager Rd</td>\n",
       "      <td>63144</td>\n",
       "      <td>1</td>\n",
       "      <td>This place is absolutely horrible!!! The woman...</td>\n",
       "      <td>2021-04-05 19:28:31</td>\n",
       "    </tr>\n",
       "  </tbody>\n",
       "</table>\n",
       "</div>"
      ],
      "text/plain": [
       "       name         city        address postal_code  stars_x  \\\n",
       "0  Le Nails  Saint Louis  8472 Eager Rd       63144        4   \n",
       "1  Le Nails  Saint Louis  8472 Eager Rd       63144        1   \n",
       "2  Le Nails  Saint Louis  8472 Eager Rd       63144        5   \n",
       "3  Le Nails  Saint Louis  8472 Eager Rd       63144        3   \n",
       "4  Le Nails  Saint Louis  8472 Eager Rd       63144        1   \n",
       "\n",
       "                                                text                date  \n",
       "0  This is my grandmas favorite spot to get her n... 2014-05-12 22:04:42  \n",
       "1  Save your money and time and do not go here. W... 2021-09-26 20:08:30  \n",
       "2  I have now gone to Le Nails for over a year.  ... 2020-06-22 19:07:00  \n",
       "3  Paid 90$ to get cut /bleed and bad sloppy nail... 2019-09-03 20:52:08  \n",
       "4  This place is absolutely horrible!!! The woman... 2021-04-05 19:28:31  "
      ]
     },
     "execution_count": 63,
     "metadata": {},
     "output_type": "execute_result"
    }
   ],
   "source": [
    "yelp_dataset.loc[:,['name', 'city', 'address', 'postal_code', 'stars_x', 'text', 'date']].head()\n"
   ]
  },
  {
   "cell_type": "markdown",
   "metadata": {},
   "source": [
    "#### Reading second source - Datafiniti Hotel Reviews"
   ]
  },
  {
   "cell_type": "code",
   "execution_count": 64,
   "metadata": {},
   "outputs": [
    {
     "data": {
      "text/html": [
       "<div>\n",
       "<style scoped>\n",
       "    .dataframe tbody tr th:only-of-type {\n",
       "        vertical-align: middle;\n",
       "    }\n",
       "\n",
       "    .dataframe tbody tr th {\n",
       "        vertical-align: top;\n",
       "    }\n",
       "\n",
       "    .dataframe thead th {\n",
       "        text-align: right;\n",
       "    }\n",
       "</style>\n",
       "<table border=\"1\" class=\"dataframe\">\n",
       "  <thead>\n",
       "    <tr style=\"text-align: right;\">\n",
       "      <th></th>\n",
       "      <th>id</th>\n",
       "      <th>dateAdded</th>\n",
       "      <th>dateUpdated</th>\n",
       "      <th>address</th>\n",
       "      <th>categories</th>\n",
       "      <th>primaryCategories</th>\n",
       "      <th>city</th>\n",
       "      <th>country</th>\n",
       "      <th>keys</th>\n",
       "      <th>latitude</th>\n",
       "      <th>...</th>\n",
       "      <th>reviews.dateSeen</th>\n",
       "      <th>reviews.rating</th>\n",
       "      <th>reviews.sourceURLs</th>\n",
       "      <th>reviews.text</th>\n",
       "      <th>reviews.title</th>\n",
       "      <th>reviews.userCity</th>\n",
       "      <th>reviews.userProvince</th>\n",
       "      <th>reviews.username</th>\n",
       "      <th>sourceURLs</th>\n",
       "      <th>websites</th>\n",
       "    </tr>\n",
       "  </thead>\n",
       "  <tbody>\n",
       "    <tr>\n",
       "      <th>0</th>\n",
       "      <td>AWE2FvX5RxPSIh2RscTK</td>\n",
       "      <td>2018-01-18T18:43:12Z</td>\n",
       "      <td>2019-05-20T23:55:47Z</td>\n",
       "      <td>5620 Calle Real</td>\n",
       "      <td>Hotels,Hotels and motels,Hotel and motel mgmt....</td>\n",
       "      <td>Accommodation &amp; Food Services</td>\n",
       "      <td>Goleta</td>\n",
       "      <td>US</td>\n",
       "      <td>us/ca/goleta/5620callereal/-1127060008</td>\n",
       "      <td>34.44178</td>\n",
       "      <td>...</td>\n",
       "      <td>2018-01-03T00:00:00Z</td>\n",
       "      <td>3</td>\n",
       "      <td>https://www.tripadvisor.com/Hotel_Review-g3243...</td>\n",
       "      <td>This hotel was nice and quiet. Did not know, t...</td>\n",
       "      <td>Best Western Plus Hotel</td>\n",
       "      <td>San Jose</td>\n",
       "      <td>UnitedStates</td>\n",
       "      <td>tatsurok2018</td>\n",
       "      <td>https://www.tripadvisor.com/Hotel_Review-g3243...</td>\n",
       "      <td>https://www.bestwestern.com/en_US/book/hotel-r...</td>\n",
       "    </tr>\n",
       "    <tr>\n",
       "      <th>1</th>\n",
       "      <td>AVwcj_OhkufWRAb5wi9T</td>\n",
       "      <td>2016-11-06T20:21:05Z</td>\n",
       "      <td>2019-05-20T23:31:56Z</td>\n",
       "      <td>5th And San Carlos PO Box 3574</td>\n",
       "      <td>Hotels,Lodging,Hotel</td>\n",
       "      <td>Accommodation &amp; Food Services</td>\n",
       "      <td>Carmel by the Sea</td>\n",
       "      <td>US</td>\n",
       "      <td>us/ca/carmelbythesea/5thandsancarlospobox3574/...</td>\n",
       "      <td>36.55722</td>\n",
       "      <td>...</td>\n",
       "      <td>2016-10-09T00:00:00Z</td>\n",
       "      <td>4</td>\n",
       "      <td>https://www.tripadvisor.com/Hotel_Review-g3217...</td>\n",
       "      <td>We stayed in the king suite with the separatio...</td>\n",
       "      <td>Clean rooms at solid rates in the heart of Carmel</td>\n",
       "      <td>San Francisco</td>\n",
       "      <td>CA</td>\n",
       "      <td>STEPHEN N</td>\n",
       "      <td>http://www.tripadvisor.com/Hotel_Review-g32172...</td>\n",
       "      <td>http://www.bestwestern.com</td>\n",
       "    </tr>\n",
       "    <tr>\n",
       "      <th>2</th>\n",
       "      <td>AVwcj_OhkufWRAb5wi9T</td>\n",
       "      <td>2016-11-06T20:21:05Z</td>\n",
       "      <td>2019-05-20T23:31:56Z</td>\n",
       "      <td>5th And San Carlos PO Box 3574</td>\n",
       "      <td>Hotels,Lodging,Hotel</td>\n",
       "      <td>Accommodation &amp; Food Services</td>\n",
       "      <td>Carmel by the Sea</td>\n",
       "      <td>US</td>\n",
       "      <td>us/ca/carmelbythesea/5thandsancarlospobox3574/...</td>\n",
       "      <td>36.55722</td>\n",
       "      <td>...</td>\n",
       "      <td>2016-10-09T00:00:00Z</td>\n",
       "      <td>3</td>\n",
       "      <td>https://www.tripadvisor.com/Hotel_Review-g3217...</td>\n",
       "      <td>Parking was horrible, somebody ran into my ren...</td>\n",
       "      <td>Business</td>\n",
       "      <td>Prescott Valley</td>\n",
       "      <td>AZ</td>\n",
       "      <td>15Deborah</td>\n",
       "      <td>http://www.tripadvisor.com/Hotel_Review-g32172...</td>\n",
       "      <td>http://www.bestwestern.com</td>\n",
       "    </tr>\n",
       "    <tr>\n",
       "      <th>3</th>\n",
       "      <td>AVwcj_OhkufWRAb5wi9T</td>\n",
       "      <td>2016-11-06T20:21:05Z</td>\n",
       "      <td>2019-05-20T23:31:56Z</td>\n",
       "      <td>5th And San Carlos PO Box 3574</td>\n",
       "      <td>Hotels,Lodging,Hotel</td>\n",
       "      <td>Accommodation &amp; Food Services</td>\n",
       "      <td>Carmel by the Sea</td>\n",
       "      <td>US</td>\n",
       "      <td>us/ca/carmelbythesea/5thandsancarlospobox3574/...</td>\n",
       "      <td>36.55722</td>\n",
       "      <td>...</td>\n",
       "      <td>2016-10-31T00:00:00Z</td>\n",
       "      <td>5</td>\n",
       "      <td>https://www.tripadvisor.com/Hotel_Review-g3217...</td>\n",
       "      <td>Not cheap but excellent location. Price is som...</td>\n",
       "      <td>Very good</td>\n",
       "      <td>Guaynabo</td>\n",
       "      <td>PR</td>\n",
       "      <td>Wilfredo M</td>\n",
       "      <td>http://www.tripadvisor.com/Hotel_Review-g32172...</td>\n",
       "      <td>http://www.bestwestern.com</td>\n",
       "    </tr>\n",
       "    <tr>\n",
       "      <th>4</th>\n",
       "      <td>AVwcj_OhkufWRAb5wi9T</td>\n",
       "      <td>2016-11-06T20:21:05Z</td>\n",
       "      <td>2019-05-20T23:31:56Z</td>\n",
       "      <td>5th And San Carlos PO Box 3574</td>\n",
       "      <td>Hotels,Lodging,Hotel</td>\n",
       "      <td>Accommodation &amp; Food Services</td>\n",
       "      <td>Carmel by the Sea</td>\n",
       "      <td>US</td>\n",
       "      <td>us/ca/carmelbythesea/5thandsancarlospobox3574/...</td>\n",
       "      <td>36.55722</td>\n",
       "      <td>...</td>\n",
       "      <td>2016-10-09T00:00:00Z,2016-03-27T00:00:00Z</td>\n",
       "      <td>2</td>\n",
       "      <td>https://www.tripadvisor.com/Hotel_Review-g3217...</td>\n",
       "      <td>If you get the room that they advertised on th...</td>\n",
       "      <td>Low chance to come back here</td>\n",
       "      <td>Reno</td>\n",
       "      <td>NV</td>\n",
       "      <td>Luc D</td>\n",
       "      <td>http://www.tripadvisor.com/Hotel_Review-g32172...</td>\n",
       "      <td>http://www.bestwestern.com</td>\n",
       "    </tr>\n",
       "  </tbody>\n",
       "</table>\n",
       "<p>5 rows × 26 columns</p>\n",
       "</div>"
      ],
      "text/plain": [
       "                     id             dateAdded           dateUpdated  \\\n",
       "0  AWE2FvX5RxPSIh2RscTK  2018-01-18T18:43:12Z  2019-05-20T23:55:47Z   \n",
       "1  AVwcj_OhkufWRAb5wi9T  2016-11-06T20:21:05Z  2019-05-20T23:31:56Z   \n",
       "2  AVwcj_OhkufWRAb5wi9T  2016-11-06T20:21:05Z  2019-05-20T23:31:56Z   \n",
       "3  AVwcj_OhkufWRAb5wi9T  2016-11-06T20:21:05Z  2019-05-20T23:31:56Z   \n",
       "4  AVwcj_OhkufWRAb5wi9T  2016-11-06T20:21:05Z  2019-05-20T23:31:56Z   \n",
       "\n",
       "                          address  \\\n",
       "0                 5620 Calle Real   \n",
       "1  5th And San Carlos PO Box 3574   \n",
       "2  5th And San Carlos PO Box 3574   \n",
       "3  5th And San Carlos PO Box 3574   \n",
       "4  5th And San Carlos PO Box 3574   \n",
       "\n",
       "                                          categories  \\\n",
       "0  Hotels,Hotels and motels,Hotel and motel mgmt....   \n",
       "1                               Hotels,Lodging,Hotel   \n",
       "2                               Hotels,Lodging,Hotel   \n",
       "3                               Hotels,Lodging,Hotel   \n",
       "4                               Hotels,Lodging,Hotel   \n",
       "\n",
       "               primaryCategories               city country  \\\n",
       "0  Accommodation & Food Services             Goleta      US   \n",
       "1  Accommodation & Food Services  Carmel by the Sea      US   \n",
       "2  Accommodation & Food Services  Carmel by the Sea      US   \n",
       "3  Accommodation & Food Services  Carmel by the Sea      US   \n",
       "4  Accommodation & Food Services  Carmel by the Sea      US   \n",
       "\n",
       "                                                keys  latitude  ...  \\\n",
       "0             us/ca/goleta/5620callereal/-1127060008  34.44178  ...   \n",
       "1  us/ca/carmelbythesea/5thandsancarlospobox3574/...  36.55722  ...   \n",
       "2  us/ca/carmelbythesea/5thandsancarlospobox3574/...  36.55722  ...   \n",
       "3  us/ca/carmelbythesea/5thandsancarlospobox3574/...  36.55722  ...   \n",
       "4  us/ca/carmelbythesea/5thandsancarlospobox3574/...  36.55722  ...   \n",
       "\n",
       "                            reviews.dateSeen reviews.rating  \\\n",
       "0                       2018-01-03T00:00:00Z              3   \n",
       "1                       2016-10-09T00:00:00Z              4   \n",
       "2                       2016-10-09T00:00:00Z              3   \n",
       "3                       2016-10-31T00:00:00Z              5   \n",
       "4  2016-10-09T00:00:00Z,2016-03-27T00:00:00Z              2   \n",
       "\n",
       "                                  reviews.sourceURLs  \\\n",
       "0  https://www.tripadvisor.com/Hotel_Review-g3243...   \n",
       "1  https://www.tripadvisor.com/Hotel_Review-g3217...   \n",
       "2  https://www.tripadvisor.com/Hotel_Review-g3217...   \n",
       "3  https://www.tripadvisor.com/Hotel_Review-g3217...   \n",
       "4  https://www.tripadvisor.com/Hotel_Review-g3217...   \n",
       "\n",
       "                                        reviews.text  \\\n",
       "0  This hotel was nice and quiet. Did not know, t...   \n",
       "1  We stayed in the king suite with the separatio...   \n",
       "2  Parking was horrible, somebody ran into my ren...   \n",
       "3  Not cheap but excellent location. Price is som...   \n",
       "4  If you get the room that they advertised on th...   \n",
       "\n",
       "                                       reviews.title  reviews.userCity  \\\n",
       "0                            Best Western Plus Hotel          San Jose   \n",
       "1  Clean rooms at solid rates in the heart of Carmel     San Francisco   \n",
       "2                                           Business   Prescott Valley   \n",
       "3                                          Very good          Guaynabo   \n",
       "4                       Low chance to come back here              Reno   \n",
       "\n",
       "  reviews.userProvince  reviews.username  \\\n",
       "0         UnitedStates      tatsurok2018   \n",
       "1                   CA         STEPHEN N   \n",
       "2                   AZ         15Deborah   \n",
       "3                   PR        Wilfredo M   \n",
       "4                   NV             Luc D   \n",
       "\n",
       "                                          sourceURLs  \\\n",
       "0  https://www.tripadvisor.com/Hotel_Review-g3243...   \n",
       "1  http://www.tripadvisor.com/Hotel_Review-g32172...   \n",
       "2  http://www.tripadvisor.com/Hotel_Review-g32172...   \n",
       "3  http://www.tripadvisor.com/Hotel_Review-g32172...   \n",
       "4  http://www.tripadvisor.com/Hotel_Review-g32172...   \n",
       "\n",
       "                                            websites  \n",
       "0  https://www.bestwestern.com/en_US/book/hotel-r...  \n",
       "1                         http://www.bestwestern.com  \n",
       "2                         http://www.bestwestern.com  \n",
       "3                         http://www.bestwestern.com  \n",
       "4                         http://www.bestwestern.com  \n",
       "\n",
       "[5 rows x 26 columns]"
      ]
     },
     "execution_count": 64,
     "metadata": {},
     "output_type": "execute_result"
    }
   ],
   "source": [
    "datafiniti = pd.read_csv('datafiniti.csv')\n",
    "datafiniti.head(5)"
   ]
  },
  {
   "cell_type": "code",
   "execution_count": 65,
   "metadata": {},
   "outputs": [
    {
     "data": {
      "text/plain": [
       "10000"
      ]
     },
     "execution_count": 65,
     "metadata": {},
     "output_type": "execute_result"
    }
   ],
   "source": [
    "len(datafiniti.index)"
   ]
  },
  {
   "cell_type": "markdown",
   "metadata": {},
   "source": [
    "#### Exploring columns that will be significant for project"
   ]
  },
  {
   "cell_type": "code",
   "execution_count": 66,
   "metadata": {},
   "outputs": [
    {
     "data": {
      "text/html": [
       "<div>\n",
       "<style scoped>\n",
       "    .dataframe tbody tr th:only-of-type {\n",
       "        vertical-align: middle;\n",
       "    }\n",
       "\n",
       "    .dataframe tbody tr th {\n",
       "        vertical-align: top;\n",
       "    }\n",
       "\n",
       "    .dataframe thead th {\n",
       "        text-align: right;\n",
       "    }\n",
       "</style>\n",
       "<table border=\"1\" class=\"dataframe\">\n",
       "  <thead>\n",
       "    <tr style=\"text-align: right;\">\n",
       "      <th></th>\n",
       "      <th>id</th>\n",
       "      <th>name</th>\n",
       "      <th>city</th>\n",
       "      <th>address</th>\n",
       "      <th>postalCode</th>\n",
       "      <th>reviews.rating</th>\n",
       "      <th>reviews.text</th>\n",
       "      <th>reviews.date</th>\n",
       "    </tr>\n",
       "  </thead>\n",
       "  <tbody>\n",
       "    <tr>\n",
       "      <th>0</th>\n",
       "      <td>AWE2FvX5RxPSIh2RscTK</td>\n",
       "      <td>Best Western Plus South Coast Inn</td>\n",
       "      <td>Goleta</td>\n",
       "      <td>5620 Calle Real</td>\n",
       "      <td>93117</td>\n",
       "      <td>3</td>\n",
       "      <td>This hotel was nice and quiet. Did not know, t...</td>\n",
       "      <td>2018-01-01T00:00:00.000Z</td>\n",
       "    </tr>\n",
       "    <tr>\n",
       "      <th>1</th>\n",
       "      <td>AVwcj_OhkufWRAb5wi9T</td>\n",
       "      <td>Best Western Carmel's Town House Lodge</td>\n",
       "      <td>Carmel by the Sea</td>\n",
       "      <td>5th And San Carlos PO Box 3574</td>\n",
       "      <td>93921</td>\n",
       "      <td>4</td>\n",
       "      <td>We stayed in the king suite with the separatio...</td>\n",
       "      <td>2016-04-02T00:00:00Z</td>\n",
       "    </tr>\n",
       "    <tr>\n",
       "      <th>2</th>\n",
       "      <td>AVwcj_OhkufWRAb5wi9T</td>\n",
       "      <td>Best Western Carmel's Town House Lodge</td>\n",
       "      <td>Carmel by the Sea</td>\n",
       "      <td>5th And San Carlos PO Box 3574</td>\n",
       "      <td>93921</td>\n",
       "      <td>3</td>\n",
       "      <td>Parking was horrible, somebody ran into my ren...</td>\n",
       "      <td>2016-01-06T00:00:00Z</td>\n",
       "    </tr>\n",
       "    <tr>\n",
       "      <th>3</th>\n",
       "      <td>AVwcj_OhkufWRAb5wi9T</td>\n",
       "      <td>Best Western Carmel's Town House Lodge</td>\n",
       "      <td>Carmel by the Sea</td>\n",
       "      <td>5th And San Carlos PO Box 3574</td>\n",
       "      <td>93921</td>\n",
       "      <td>5</td>\n",
       "      <td>Not cheap but excellent location. Price is som...</td>\n",
       "      <td>2016-08-22T00:00:00Z</td>\n",
       "    </tr>\n",
       "    <tr>\n",
       "      <th>4</th>\n",
       "      <td>AVwcj_OhkufWRAb5wi9T</td>\n",
       "      <td>Best Western Carmel's Town House Lodge</td>\n",
       "      <td>Carmel by the Sea</td>\n",
       "      <td>5th And San Carlos PO Box 3574</td>\n",
       "      <td>93921</td>\n",
       "      <td>2</td>\n",
       "      <td>If you get the room that they advertised on th...</td>\n",
       "      <td>2016-03-21T00:00:00Z</td>\n",
       "    </tr>\n",
       "  </tbody>\n",
       "</table>\n",
       "</div>"
      ],
      "text/plain": [
       "                     id                                    name  \\\n",
       "0  AWE2FvX5RxPSIh2RscTK       Best Western Plus South Coast Inn   \n",
       "1  AVwcj_OhkufWRAb5wi9T  Best Western Carmel's Town House Lodge   \n",
       "2  AVwcj_OhkufWRAb5wi9T  Best Western Carmel's Town House Lodge   \n",
       "3  AVwcj_OhkufWRAb5wi9T  Best Western Carmel's Town House Lodge   \n",
       "4  AVwcj_OhkufWRAb5wi9T  Best Western Carmel's Town House Lodge   \n",
       "\n",
       "                city                         address postalCode  \\\n",
       "0             Goleta                 5620 Calle Real      93117   \n",
       "1  Carmel by the Sea  5th And San Carlos PO Box 3574      93921   \n",
       "2  Carmel by the Sea  5th And San Carlos PO Box 3574      93921   \n",
       "3  Carmel by the Sea  5th And San Carlos PO Box 3574      93921   \n",
       "4  Carmel by the Sea  5th And San Carlos PO Box 3574      93921   \n",
       "\n",
       "   reviews.rating                                       reviews.text  \\\n",
       "0               3  This hotel was nice and quiet. Did not know, t...   \n",
       "1               4  We stayed in the king suite with the separatio...   \n",
       "2               3  Parking was horrible, somebody ran into my ren...   \n",
       "3               5  Not cheap but excellent location. Price is som...   \n",
       "4               2  If you get the room that they advertised on th...   \n",
       "\n",
       "               reviews.date  \n",
       "0  2018-01-01T00:00:00.000Z  \n",
       "1      2016-04-02T00:00:00Z  \n",
       "2      2016-01-06T00:00:00Z  \n",
       "3      2016-08-22T00:00:00Z  \n",
       "4      2016-03-21T00:00:00Z  "
      ]
     },
     "execution_count": 66,
     "metadata": {},
     "output_type": "execute_result"
    }
   ],
   "source": [
    "datafiniti.loc[:,['id' ,'name', 'city', 'address', 'postalCode', 'reviews.rating' , 'reviews.text', 'reviews.date' ]].head()\n"
   ]
  },
  {
   "cell_type": "markdown",
   "metadata": {},
   "source": [
    "#### Cleaning Datafiniti source -> changing formatting of review date and column names"
   ]
  },
  {
   "cell_type": "code",
   "execution_count": 67,
   "metadata": {},
   "outputs": [],
   "source": [
    "datafiniti['reviews.date'] = pd.to_datetime(datafiniti['reviews.date']).dt.strftime('%Y-%m-%d')\n",
    "datafiniti.rename(columns={'name': 'place', 'id': 'review_id', 'postalCode': 'postal_code', 'reviews.rating': 'rating', 'reviews.text': 'review_text', 'reviews.date': 'review_date'}, inplace=True)"
   ]
  },
  {
   "cell_type": "code",
   "execution_count": 68,
   "metadata": {},
   "outputs": [
    {
     "data": {
      "text/html": [
       "<div>\n",
       "<style scoped>\n",
       "    .dataframe tbody tr th:only-of-type {\n",
       "        vertical-align: middle;\n",
       "    }\n",
       "\n",
       "    .dataframe tbody tr th {\n",
       "        vertical-align: top;\n",
       "    }\n",
       "\n",
       "    .dataframe thead th {\n",
       "        text-align: right;\n",
       "    }\n",
       "</style>\n",
       "<table border=\"1\" class=\"dataframe\">\n",
       "  <thead>\n",
       "    <tr style=\"text-align: right;\">\n",
       "      <th></th>\n",
       "      <th>review_id</th>\n",
       "      <th>place</th>\n",
       "      <th>city</th>\n",
       "      <th>address</th>\n",
       "      <th>postal_code</th>\n",
       "      <th>rating</th>\n",
       "      <th>review_text</th>\n",
       "      <th>review_date</th>\n",
       "    </tr>\n",
       "  </thead>\n",
       "  <tbody>\n",
       "    <tr>\n",
       "      <th>0</th>\n",
       "      <td>AWE2FvX5RxPSIh2RscTK</td>\n",
       "      <td>Best Western Plus South Coast Inn</td>\n",
       "      <td>Goleta</td>\n",
       "      <td>5620 Calle Real</td>\n",
       "      <td>93117</td>\n",
       "      <td>3</td>\n",
       "      <td>This hotel was nice and quiet. Did not know, t...</td>\n",
       "      <td>2018-01-01</td>\n",
       "    </tr>\n",
       "    <tr>\n",
       "      <th>1</th>\n",
       "      <td>AVwcj_OhkufWRAb5wi9T</td>\n",
       "      <td>Best Western Carmel's Town House Lodge</td>\n",
       "      <td>Carmel by the Sea</td>\n",
       "      <td>5th And San Carlos PO Box 3574</td>\n",
       "      <td>93921</td>\n",
       "      <td>4</td>\n",
       "      <td>We stayed in the king suite with the separatio...</td>\n",
       "      <td>2016-04-02</td>\n",
       "    </tr>\n",
       "    <tr>\n",
       "      <th>2</th>\n",
       "      <td>AVwcj_OhkufWRAb5wi9T</td>\n",
       "      <td>Best Western Carmel's Town House Lodge</td>\n",
       "      <td>Carmel by the Sea</td>\n",
       "      <td>5th And San Carlos PO Box 3574</td>\n",
       "      <td>93921</td>\n",
       "      <td>3</td>\n",
       "      <td>Parking was horrible, somebody ran into my ren...</td>\n",
       "      <td>2016-01-06</td>\n",
       "    </tr>\n",
       "    <tr>\n",
       "      <th>3</th>\n",
       "      <td>AVwcj_OhkufWRAb5wi9T</td>\n",
       "      <td>Best Western Carmel's Town House Lodge</td>\n",
       "      <td>Carmel by the Sea</td>\n",
       "      <td>5th And San Carlos PO Box 3574</td>\n",
       "      <td>93921</td>\n",
       "      <td>5</td>\n",
       "      <td>Not cheap but excellent location. Price is som...</td>\n",
       "      <td>2016-08-22</td>\n",
       "    </tr>\n",
       "    <tr>\n",
       "      <th>4</th>\n",
       "      <td>AVwcj_OhkufWRAb5wi9T</td>\n",
       "      <td>Best Western Carmel's Town House Lodge</td>\n",
       "      <td>Carmel by the Sea</td>\n",
       "      <td>5th And San Carlos PO Box 3574</td>\n",
       "      <td>93921</td>\n",
       "      <td>2</td>\n",
       "      <td>If you get the room that they advertised on th...</td>\n",
       "      <td>2016-03-21</td>\n",
       "    </tr>\n",
       "  </tbody>\n",
       "</table>\n",
       "</div>"
      ],
      "text/plain": [
       "              review_id                                   place  \\\n",
       "0  AWE2FvX5RxPSIh2RscTK       Best Western Plus South Coast Inn   \n",
       "1  AVwcj_OhkufWRAb5wi9T  Best Western Carmel's Town House Lodge   \n",
       "2  AVwcj_OhkufWRAb5wi9T  Best Western Carmel's Town House Lodge   \n",
       "3  AVwcj_OhkufWRAb5wi9T  Best Western Carmel's Town House Lodge   \n",
       "4  AVwcj_OhkufWRAb5wi9T  Best Western Carmel's Town House Lodge   \n",
       "\n",
       "                city                         address postal_code  rating  \\\n",
       "0             Goleta                 5620 Calle Real       93117       3   \n",
       "1  Carmel by the Sea  5th And San Carlos PO Box 3574       93921       4   \n",
       "2  Carmel by the Sea  5th And San Carlos PO Box 3574       93921       3   \n",
       "3  Carmel by the Sea  5th And San Carlos PO Box 3574       93921       5   \n",
       "4  Carmel by the Sea  5th And San Carlos PO Box 3574       93921       2   \n",
       "\n",
       "                                         review_text review_date  \n",
       "0  This hotel was nice and quiet. Did not know, t...  2018-01-01  \n",
       "1  We stayed in the king suite with the separatio...  2016-04-02  \n",
       "2  Parking was horrible, somebody ran into my ren...  2016-01-06  \n",
       "3  Not cheap but excellent location. Price is som...  2016-08-22  \n",
       "4  If you get the room that they advertised on th...  2016-03-21  "
      ]
     },
     "execution_count": 68,
     "metadata": {},
     "output_type": "execute_result"
    }
   ],
   "source": [
    "datafiniti_final = datafiniti.loc[:,['review_id','place', 'city', 'address', 'postal_code', 'rating' , 'review_text', 'review_date' ]]\n",
    "datafiniti_final.head()"
   ]
  },
  {
   "cell_type": "code",
   "execution_count": 69,
   "metadata": {},
   "outputs": [],
   "source": [
    "datafiniti_final['postal_code'] = datafiniti_final['postal_code'].str[:5]\n",
    "datafiniti_final.to_csv('datafiniti_final.csv', encoding='utf-8', index=False)"
   ]
  },
  {
   "cell_type": "code",
   "execution_count": 70,
   "metadata": {},
   "outputs": [
    {
     "name": "stdout",
     "output_type": "stream",
     "text": [
      "10001\n"
     ]
    }
   ],
   "source": [
    "# check the number of rows in your csv file\n",
    "with open('datafiniti_final.csv', 'r', encoding = 'utf8') as f:\n",
    "    print(sum(1 for line in f))"
   ]
  },
  {
   "cell_type": "markdown",
   "metadata": {},
   "source": [
    "#### Cleaning Yelp source -> changing formatting of review date and column names"
   ]
  },
  {
   "cell_type": "code",
   "execution_count": 71,
   "metadata": {},
   "outputs": [],
   "source": [
    "yelp_dataset['date'] = pd.to_datetime(yelp_dataset['date']).dt.strftime('%Y-%m-%d')\n",
    "yelp_dataset.rename(columns={'name': 'place', 'stars_x': 'rating', 'text': 'review_text', 'date': 'review_date'}, inplace=True)"
   ]
  },
  {
   "cell_type": "code",
   "execution_count": 72,
   "metadata": {},
   "outputs": [
    {
     "data": {
      "text/html": [
       "<div>\n",
       "<style scoped>\n",
       "    .dataframe tbody tr th:only-of-type {\n",
       "        vertical-align: middle;\n",
       "    }\n",
       "\n",
       "    .dataframe tbody tr th {\n",
       "        vertical-align: top;\n",
       "    }\n",
       "\n",
       "    .dataframe thead th {\n",
       "        text-align: right;\n",
       "    }\n",
       "</style>\n",
       "<table border=\"1\" class=\"dataframe\">\n",
       "  <thead>\n",
       "    <tr style=\"text-align: right;\">\n",
       "      <th></th>\n",
       "      <th>review_id</th>\n",
       "      <th>place</th>\n",
       "      <th>city</th>\n",
       "      <th>address</th>\n",
       "      <th>postal_code</th>\n",
       "      <th>rating</th>\n",
       "      <th>review_text</th>\n",
       "      <th>review_date</th>\n",
       "    </tr>\n",
       "  </thead>\n",
       "  <tbody>\n",
       "    <tr>\n",
       "      <th>0</th>\n",
       "      <td>9vaycsbx7BcwnhELzmLm2g</td>\n",
       "      <td>Le Nails</td>\n",
       "      <td>Saint Louis</td>\n",
       "      <td>8472 Eager Rd</td>\n",
       "      <td>63144</td>\n",
       "      <td>4</td>\n",
       "      <td>This is my grandmas favorite spot to get her n...</td>\n",
       "      <td>2014-05-12</td>\n",
       "    </tr>\n",
       "    <tr>\n",
       "      <th>1</th>\n",
       "      <td>VlEa3sTuVsatjUr2LKUkMA</td>\n",
       "      <td>Le Nails</td>\n",
       "      <td>Saint Louis</td>\n",
       "      <td>8472 Eager Rd</td>\n",
       "      <td>63144</td>\n",
       "      <td>1</td>\n",
       "      <td>Save your money and time and do not go here. W...</td>\n",
       "      <td>2021-09-26</td>\n",
       "    </tr>\n",
       "    <tr>\n",
       "      <th>2</th>\n",
       "      <td>qrSntxbBf0eZxbqO15Itmw</td>\n",
       "      <td>Le Nails</td>\n",
       "      <td>Saint Louis</td>\n",
       "      <td>8472 Eager Rd</td>\n",
       "      <td>63144</td>\n",
       "      <td>5</td>\n",
       "      <td>I have now gone to Le Nails for over a year.  ...</td>\n",
       "      <td>2020-06-22</td>\n",
       "    </tr>\n",
       "    <tr>\n",
       "      <th>3</th>\n",
       "      <td>VT3KHg3VxW3izekI9dlHaA</td>\n",
       "      <td>Le Nails</td>\n",
       "      <td>Saint Louis</td>\n",
       "      <td>8472 Eager Rd</td>\n",
       "      <td>63144</td>\n",
       "      <td>3</td>\n",
       "      <td>Paid 90$ to get cut /bleed and bad sloppy nail...</td>\n",
       "      <td>2019-09-03</td>\n",
       "    </tr>\n",
       "    <tr>\n",
       "      <th>4</th>\n",
       "      <td>kuncqA-SZoxrUMTI2LrQbw</td>\n",
       "      <td>Le Nails</td>\n",
       "      <td>Saint Louis</td>\n",
       "      <td>8472 Eager Rd</td>\n",
       "      <td>63144</td>\n",
       "      <td>1</td>\n",
       "      <td>This place is absolutely horrible!!! The woman...</td>\n",
       "      <td>2021-04-05</td>\n",
       "    </tr>\n",
       "  </tbody>\n",
       "</table>\n",
       "</div>"
      ],
      "text/plain": [
       "                review_id     place         city        address postal_code  \\\n",
       "0  9vaycsbx7BcwnhELzmLm2g  Le Nails  Saint Louis  8472 Eager Rd       63144   \n",
       "1  VlEa3sTuVsatjUr2LKUkMA  Le Nails  Saint Louis  8472 Eager Rd       63144   \n",
       "2  qrSntxbBf0eZxbqO15Itmw  Le Nails  Saint Louis  8472 Eager Rd       63144   \n",
       "3  VT3KHg3VxW3izekI9dlHaA  Le Nails  Saint Louis  8472 Eager Rd       63144   \n",
       "4  kuncqA-SZoxrUMTI2LrQbw  Le Nails  Saint Louis  8472 Eager Rd       63144   \n",
       "\n",
       "   rating                                        review_text review_date  \n",
       "0       4  This is my grandmas favorite spot to get her n...  2014-05-12  \n",
       "1       1  Save your money and time and do not go here. W...  2021-09-26  \n",
       "2       5  I have now gone to Le Nails for over a year.  ...  2020-06-22  \n",
       "3       3  Paid 90$ to get cut /bleed and bad sloppy nail...  2019-09-03  \n",
       "4       1  This place is absolutely horrible!!! The woman...  2021-04-05  "
      ]
     },
     "execution_count": 72,
     "metadata": {},
     "output_type": "execute_result"
    }
   ],
   "source": [
    "yelp_final = yelp_dataset.loc[:,['review_id', 'place', 'city', 'address', 'postal_code', 'rating', 'review_text', 'review_date']]\n",
    "yelp_final.head()"
   ]
  },
  {
   "cell_type": "code",
   "execution_count": 73,
   "metadata": {},
   "outputs": [
    {
     "data": {
      "text/plain": [
       "1079242"
      ]
     },
     "execution_count": 73,
     "metadata": {},
     "output_type": "execute_result"
    }
   ],
   "source": [
    "len(yelp_final.index)"
   ]
  },
  {
   "cell_type": "markdown",
   "metadata": {},
   "source": [
    "#### Cleaning"
   ]
  },
  {
   "cell_type": "code",
   "execution_count": 75,
   "metadata": {},
   "outputs": [],
   "source": [
    "yelp_final.replace(r'\\s+|\\\\n', ' ', regex=True, inplace=True)\n",
    "yelp_final['postal_code'] = yelp_final['postal_code'].str[:5]\n",
    "yelp_final = yelp_final[pd.to_numeric(yelp_final['postal_code'], errors='coerce').notnull()]\n",
    "yelp_final.to_csv('yelp_final.csv', encoding='utf-8', index=False)"
   ]
  },
  {
   "cell_type": "markdown",
   "metadata": {},
   "source": [
    "#### Processing the files to create the data file csv that will be used for Apache Casssandra tables"
   ]
  },
  {
   "cell_type": "code",
   "execution_count": 76,
   "metadata": {},
   "outputs": [
    {
     "name": "stdout",
     "output_type": "stream",
     "text": [
      "10001\n"
     ]
    }
   ],
   "source": [
    "# check the number of rows in your csv file\n",
    "with open('datafiniti_final.csv', 'r', encoding = 'utf8') as f:\n",
    "    print(sum(1 for line in f))"
   ]
  },
  {
   "cell_type": "markdown",
   "metadata": {},
   "source": [
    "#### 10001 is ok as csv files has one extra line at the end of file"
   ]
  },
  {
   "cell_type": "code",
   "execution_count": 77,
   "metadata": {},
   "outputs": [
    {
     "name": "stdout",
     "output_type": "stream",
     "text": [
      "1061661\n"
     ]
    }
   ],
   "source": [
    "# check the number of rows in your csv file\n",
    "with open('yelp_final.csv') as f:\n",
    "    print(sum(1 for line in f))"
   ]
  },
  {
   "cell_type": "markdown",
   "metadata": {},
   "source": [
    "#### Creating a Cluster"
   ]
  },
  {
   "cell_type": "code",
   "execution_count": 118,
   "metadata": {},
   "outputs": [],
   "source": [
    "# This should make a connection to a Cassandra instance your local machine \n",
    "# (127.0.0.1)\n",
    "\n",
    "from cassandra.cluster import Cluster\n",
    "cluster = Cluster()\n",
    "\n",
    "# To establish connection and begin executing queries, need a session\n",
    "session = cluster.connect()\n",
    "session.default_timeout = 60"
   ]
  },
  {
   "cell_type": "markdown",
   "metadata": {},
   "source": [
    "#### Create Keyspace"
   ]
  },
  {
   "cell_type": "code",
   "execution_count": 120,
   "metadata": {},
   "outputs": [],
   "source": [
    "try:\n",
    "    session.execute(\"\"\"\n",
    "    CREATE KEYSPACE IF NOT EXISTS udacity \n",
    "    WITH REPLICATION = \n",
    "    { 'class' : 'SimpleStrategy', 'replication_factor' : 1 }\"\"\"\n",
    ")\n",
    "\n",
    "except Exception as e:\n",
    "    print(e)"
   ]
  },
  {
   "cell_type": "markdown",
   "metadata": {},
   "source": [
    "#### Set Keyspace"
   ]
  },
  {
   "cell_type": "code",
   "execution_count": 121,
   "metadata": {},
   "outputs": [],
   "source": [
    "try:\n",
    "    session.set_keyspace('udacity')\n",
    "except Exception as e:\n",
    "    print(e)"
   ]
  },
  {
   "cell_type": "markdown",
   "metadata": {},
   "source": [
    "## Basing on following three questions of the data the data model and queries will be created \n",
    "\n",
    "### 1. Give me the review text, rating and date of review in the reviews history having review_id and source.\n",
    "    review_id='9vaycsbx7BcwnhELzmLm2g' and source='yelp'\n",
    "    review_id='9vaycsbx7BcwnhELzmLm2g' and source='datafiniti'\n",
    "\n",
    "\n",
    "### 2. Give me the name of the reviewed place, review text, rating, source of review in the reviews history having city and review_id.\n",
    "    city='Goleta' and review_id='AWE2FvX5RxPSIh2RscTK'\n",
    "    city='Saint Louis' and review_id='9vaycsbx7BcwnhELzmLm2g'\n",
    "\n",
    "### 3. Give me name of the place, city, address and postal_code having name of the place review_id and source.\n",
    "    review_id='9vaycsbx7BcwnhELzmLm2g' and source='yelp'\n",
    "    review_id='AWE2FvX5RxPSIh2RscTK' and source='datafiniti'"
   ]
  },
  {
   "cell_type": "code",
   "execution_count": 153,
   "metadata": {},
   "outputs": [],
   "source": [
    "tables_to_drop = ['reviews_by_id_source', 'places_by_city', 'place_by_review']\n",
    "for table_name in tables_to_drop:\n",
    "    try:\n",
    "        query = \"drop table if exists {}\".format(table_name)\n",
    "        rows = session.execute(query)\n",
    "    except Exception as e:\n",
    "        print(e)\n"
   ]
  },
  {
   "cell_type": "code",
   "execution_count": 154,
   "metadata": {},
   "outputs": [],
   "source": [
    "query = \"CREATE TABLE IF NOT EXISTS reviews_by_id_source\"\n",
    "query = query + \"(review_id text, source text, review_text text, rating int, review_date date, PRIMARY KEY ((review_id, source)))\"\n",
    "try:\n",
    "    session.execute(query)\n",
    "except Exception as e:\n",
    "    print(e)"
   ]
  },
  {
   "cell_type": "code",
   "execution_count": 155,
   "metadata": {},
   "outputs": [],
   "source": [
    "query = \"CREATE TABLE IF NOT EXISTS places_by_city\"\n",
    "query = query + \"(city text, review_id text, place text, review_text text, rating int, source text, PRIMARY KEY ((city, review_id)))\"\n",
    "try:\n",
    "    session.execute(query)\n",
    "except Exception as e:\n",
    "    print(e)"
   ]
  },
  {
   "cell_type": "code",
   "execution_count": 156,
   "metadata": {},
   "outputs": [],
   "source": [
    "query = \"CREATE TABLE IF NOT EXISTS place_by_review\"\n",
    "query = query + \"(review_id text, source text, place text, city text, address text, postal_code int, PRIMARY KEY ((review_id, source)))\"\n",
    "try:\n",
    "    session.execute(query)\n",
    "except Exception as e:\n",
    "    print(e)"
   ]
  },
  {
   "cell_type": "code",
   "execution_count": 157,
   "metadata": {},
   "outputs": [
    {
     "name": "stdout",
     "output_type": "stream",
     "text": [
      "CPU times: user 11min 3s, sys: 54.5 s, total: 11min 58s\n",
      "Wall time: 12min 29s\n"
     ]
    }
   ],
   "source": [
    "%%time\n",
    "file = 'yelp_final.csv'\n",
    "\n",
    "with open(file, encoding = 'utf8') as f:\n",
    "    csvreader = csv.reader(f)\n",
    "    next(csvreader) # skip header\n",
    "    for line in csvreader:\n",
    "        #print(line)\n",
    "        query = \"INSERT INTO reviews_by_id_source (review_id, source, review_text, rating, review_date)\"\n",
    "        query = query + \"VALUES (%s, %s, %s, %s, %s)\"\n",
    "        session.execute_async(query, (line[0], 'yelp', line[6], int(line[5]), line[7]))\n",
    "        \n",
    "        query = \"INSERT INTO places_by_city (city, review_id, place, review_text, rating, source)\"\n",
    "        query = query + \"VALUES (%s, %s, %s, %s, %s, %s)\"\n",
    "        session.execute_async(query, (line[2], line[0], line[1], line[6], int(line[5]), 'yelp'))\n",
    "        \n",
    "        query = \"INSERT INTO place_by_review (review_id, source, place, city, address, postal_code)\"\n",
    "        query = query + \"VALUES (%s, %s, %s, %s, %s, %s)\"\n",
    "        session.execute_async(query, (line[0], 'yelp', line[1], line[2], line[3], int(line[4])))"
   ]
  },
  {
   "cell_type": "code",
   "execution_count": 158,
   "metadata": {},
   "outputs": [],
   "source": [
    "file = 'datafiniti_final.csv'\n",
    "\n",
    "with open(file, encoding = 'utf8') as f:\n",
    "    csvreader = csv.reader(f)\n",
    "    next(csvreader) # skip header\n",
    "    for line in csvreader:\n",
    "        query = \"INSERT INTO reviews_by_id_source (review_id, source, review_text, rating, review_date)\"\n",
    "        query = query + \"VALUES (%s, %s, %s, %s, %s)\"\n",
    "        session.execute_async(query, (line[0], 'datafiniti', line[6], int(line[5]), line[7]))\n",
    "        \n",
    "        query = \"INSERT INTO places_by_city (city, review_id, place, review_text, rating, source)\"\n",
    "        query = query + \"VALUES (%s, %s, %s, %s, %s, %s)\"\n",
    "        session.execute_async(query, (line[2], line[0], line[1], line[6], int(line[5]), 'datafiniti'))\n",
    "        \n",
    "        query = \"INSERT INTO place_by_review (review_id, source, place, city, address, postal_code)\"\n",
    "        query = query + \"VALUES (%s, %s, %s, %s, %s, %s)\"\n",
    "        session.execute_async(query, (line[0], 'datafiniti', line[1], line[2], line[3], int(line[4])))"
   ]
  },
  {
   "cell_type": "markdown",
   "metadata": {},
   "source": [
    "#### Do a SELECT to verify that the data have been inserted into each table"
   ]
  },
  {
   "cell_type": "code",
   "execution_count": 159,
   "metadata": {
    "scrolled": true
   },
   "outputs": [
    {
     "name": "stdout",
     "output_type": "stream",
     "text": [
      "This hotel was nice and quiet. Did not know, there was train track near by. But it was only few train passed during our stay. Best Western changed hotel classification. The Plus category are not the same as before. 3 2018-01-01\n"
     ]
    }
   ],
   "source": [
    "query = \"select review_text, rating, review_date from reviews_by_id_source WHERE review_id='AWE2FvX5RxPSIh2RscTK' and source='datafiniti'\"\n",
    "try:\n",
    "    rows = session.execute(query)\n",
    "except Exception as e:\n",
    "    print(e)\n",
    "    \n",
    "for row in rows:\n",
    "    print (row.review_text, row.rating, row.review_date)"
   ]
  },
  {
   "cell_type": "code",
   "execution_count": 160,
   "metadata": {},
   "outputs": [
    {
     "name": "stdout",
     "output_type": "stream",
     "text": [
      "This is my grandmas favorite spot to get her nails done because she has a special lady that rubs her feet very well, lol. We come here often and the ladies are always friendly and do a great job. The place is clean, which is extremely important for a nail salon! 4 2014-05-12\n"
     ]
    }
   ],
   "source": [
    "query = \"select review_text, rating, review_date from reviews_by_id_source WHERE review_id='9vaycsbx7BcwnhELzmLm2g' and source='yelp'\"\n",
    "try:\n",
    "    rows = session.execute(query)\n",
    "except Exception as e:\n",
    "    print(e)\n",
    "    \n",
    "for row in rows:\n",
    "    print (row.review_text, row.rating, row.review_date)"
   ]
  },
  {
   "cell_type": "code",
   "execution_count": 161,
   "metadata": {},
   "outputs": [
    {
     "name": "stdout",
     "output_type": "stream",
     "text": [
      "Best Western Plus South Coast Inn This hotel was nice and quiet. Did not know, there was train track near by. But it was only few train passed during our stay. Best Western changed hotel classification. The Plus category are not the same as before. 3 datafiniti\n"
     ]
    }
   ],
   "source": [
    "query = \"select place, review_text, rating, source from places_by_city WHERE city='Goleta' and review_id='AWE2FvX5RxPSIh2RscTK' \"\n",
    "try:\n",
    "    rows = session.execute(query)\n",
    "except Exception as e:\n",
    "    print(e)\n",
    "    \n",
    "for row in rows:\n",
    "    print (row.place, row.review_text, row.rating, row.source)"
   ]
  },
  {
   "cell_type": "code",
   "execution_count": 162,
   "metadata": {},
   "outputs": [
    {
     "name": "stdout",
     "output_type": "stream",
     "text": [
      "Le Nails This is my grandmas favorite spot to get her nails done because she has a special lady that rubs her feet very well, lol. We come here often and the ladies are always friendly and do a great job. The place is clean, which is extremely important for a nail salon! 4 yelp\n"
     ]
    }
   ],
   "source": [
    "query = \"select place, review_text, rating, source from places_by_city WHERE city='Saint Louis' and review_id='9vaycsbx7BcwnhELzmLm2g'\"\n",
    "try:\n",
    "    rows = session.execute(query)\n",
    "except Exception as e:\n",
    "    print(e)\n",
    "    \n",
    "for row in rows:\n",
    "    print (row.place, row.review_text, row.rating, row.source)"
   ]
  },
  {
   "cell_type": "code",
   "execution_count": 163,
   "metadata": {
    "scrolled": true
   },
   "outputs": [
    {
     "name": "stdout",
     "output_type": "stream",
     "text": [
      "Best Western Plus South Coast Inn Goleta 5620 Calle Real 93117\n"
     ]
    }
   ],
   "source": [
    "query = \"select place, city, address, postal_code from place_by_review WHERE review_id='AWE2FvX5RxPSIh2RscTK' and source='datafiniti'\"\n",
    "try:\n",
    "    rows = session.execute(query)\n",
    "except Exception as e:\n",
    "    print(e)\n",
    "    \n",
    "for row in rows:\n",
    "    print (row.place, row.city, row.address, row.postal_code)"
   ]
  },
  {
   "cell_type": "code",
   "execution_count": 164,
   "metadata": {},
   "outputs": [
    {
     "name": "stdout",
     "output_type": "stream",
     "text": [
      "Le Nails Saint Louis 8472 Eager Rd 63144\n"
     ]
    }
   ],
   "source": [
    "query = \"select place, city, address, postal_code from place_by_review WHERE review_id='9vaycsbx7BcwnhELzmLm2g' and source='yelp'\"\n",
    "try:\n",
    "    rows = session.execute(query)\n",
    "except Exception as e:\n",
    "    print(e)\n",
    "    \n",
    "for row in rows:\n",
    "    print (row.place, row.city, row.address, row.postal_code)"
   ]
  },
  {
   "cell_type": "code",
   "execution_count": 165,
   "metadata": {},
   "outputs": [],
   "source": [
    "def print_row_count(rows, label):\n",
    "    for i, row in enumerate(rows):\n",
    "        print(row)\n",
    "    print (\"{}: processed {} rows\".format(label, i+1))\n",
    "    \n",
    "\n",
    "def print_err(reason):\n",
    "    print (\"Error: {}\".format(reason))"
   ]
  },
  {
   "cell_type": "code",
   "execution_count": 166,
   "metadata": {},
   "outputs": [
    {
     "name": "stdout",
     "output_type": "stream",
     "text": [
      "Row(count=1063093)\n",
      "select count(*) from place_by_review: processed 1 rows\n",
      "Row(count=1063093)\n",
      "select count(*) from reviews_by_id_source: processed 1 rows\n",
      "Row(count=1063093)\n",
      "select count(*) from places_by_city: processed 1 rows\n"
     ]
    }
   ],
   "source": [
    "#checking if all rows are available in tables\n",
    "queries = [\"select count(*) from reviews_by_id_source\", \"select count(*) from places_by_city\", \"select count(*) from place_by_review\"]\n",
    "futures = []\n",
    "for query in queries:\n",
    "    try:\n",
    "        future = session.execute_async(query)\n",
    "        future.add_callback(print_row_count, query)\n",
    "        future.add_errback(print_err)\n",
    "        futures.append(future)\n",
    "    except Exception as e:\n",
    "        print(e)"
   ]
  },
  {
   "cell_type": "markdown",
   "metadata": {},
   "source": [
    "### COPY AND REPEAT THE ABOVE THREE CELLS FOR EACH OF THE THREE QUESTIONS"
   ]
  },
  {
   "cell_type": "markdown",
   "metadata": {},
   "source": [
    "### Drop the tables before closing out the sessions"
   ]
  },
  {
   "cell_type": "code",
   "execution_count": 152,
   "metadata": {},
   "outputs": [],
   "source": [
    "tables_to_drop = ['reviews_by_id_source', 'places_by_city', 'place_by_review']\n",
    "for table_name in tables_to_drop:\n",
    "    try:\n",
    "        query = \"drop table if exists {}\".format(table_name)\n",
    "        rows = session.execute(query)\n",
    "    except Exception as e:\n",
    "        print(e)\n"
   ]
  },
  {
   "cell_type": "markdown",
   "metadata": {},
   "source": [
    "### Close the session and cluster connection¶"
   ]
  },
  {
   "cell_type": "code",
   "execution_count": null,
   "metadata": {},
   "outputs": [],
   "source": [
    "session.shutdown()\n",
    "cluster.shutdown()"
   ]
  },
  {
   "cell_type": "code",
   "execution_count": null,
   "metadata": {},
   "outputs": [],
   "source": []
  },
  {
   "cell_type": "code",
   "execution_count": null,
   "metadata": {},
   "outputs": [],
   "source": []
  }
 ],
 "metadata": {
  "kernelspec": {
   "display_name": "Python 3 (ipykernel)",
   "language": "python",
   "name": "python3"
  },
  "language_info": {
   "codemirror_mode": {
    "name": "ipython",
    "version": 3
   },
   "file_extension": ".py",
   "mimetype": "text/x-python",
   "name": "python",
   "nbconvert_exporter": "python",
   "pygments_lexer": "ipython3",
   "version": "3.10.8"
  }
 },
 "nbformat": 4,
 "nbformat_minor": 2
}
